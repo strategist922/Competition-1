{
  "cells": [
    {
      "metadata": {
        "_uuid": "8f2839f25d086af736a60e9eeb907d3b93b6e0e5",
        "_cell_guid": "b1076dfc-b9ad-4769-8c92-a6c4dae69d19",
        "trusted": true
      },
      "cell_type": "code",
      "source": "# This Python 3 environment comes with many helpful analytics libraries installed\n# It is defined by the kaggle/python docker image: https://github.com/kaggle/docker-python\n# For example, here's several helpful packages to load in \n\nimport numpy as np # linear algebra\nimport pandas as pd # data processing, CSV file I/O (e.g. pd.read_csv)\n\n# Input data files are available in the \"../input/\" directory.\n# For example, running this (by clicking run or pressing Shift+Enter) will list the files in the input directory\n\nimport os\nprint(os.listdir(\"../input\"))\nimport xgboost as xgb\nimport lightgbm as lgbm\n\n# Any results you write to the current directory are saved as output.",
      "execution_count": 44,
      "outputs": [
        {
          "output_type": "stream",
          "text": "['train', 'test', 'breed_labels.csv', 'train_sentiment', 'test_sentiment', 'test_metadata', 'train_images', 'train_metadata', 'state_labels.csv', 'color_labels.csv', 'test_images']\n",
          "name": "stdout"
        }
      ]
    },
    {
      "metadata": {
        "_cell_guid": "79c7e3d0-c299-4dcb-8224-4455121ee9b0",
        "_uuid": "d629ff2d2480ee46fbb7e2d37f6b5fab8052498a",
        "trusted": true
      },
      "cell_type": "code",
      "source": "train_df = pd.read_csv(\"../input/train/train.csv\")\ntest_df = pd.read_csv(\"../input/test/test.csv\")",
      "execution_count": 45,
      "outputs": []
    },
    {
      "metadata": {
        "trusted": true,
        "_uuid": "a5d0f0a919d65abe7fa4f8ef1784eacce3f724cf"
      },
      "cell_type": "code",
      "source": "y = train_df.AdoptionSpeed.values",
      "execution_count": 46,
      "outputs": []
    },
    {
      "metadata": {
        "trusted": true,
        "_uuid": "a0a9eab42152f377cc78eca7a591d7ea0df26864"
      },
      "cell_type": "code",
      "source": "train_df = train_df.drop(['Name', 'RescuerID', 'Description', 'PetID', 'AdoptionSpeed'], axis=1).values",
      "execution_count": 47,
      "outputs": []
    },
    {
      "metadata": {
        "trusted": true,
        "_uuid": "6307974e01a7effdfcd715da7e3ad550b9541519"
      },
      "cell_type": "code",
      "source": "test_df = test_df.drop(['Name', 'RescuerID', 'Description', 'PetID'], axis=1).values\n",
      "execution_count": 48,
      "outputs": []
    },
    {
      "metadata": {
        "trusted": true,
        "_uuid": "20c54cdad7d43f2b454223822a2007ffcee95c14"
      },
      "cell_type": "code",
      "source": "model = xgb.XGBClassifier(n_estimators=500, nthread=-1, max_depth=8, learning_rate=0.015)\nmodel.fit(train_df, y)",
      "execution_count": 49,
      "outputs": [
        {
          "output_type": "execute_result",
          "execution_count": 49,
          "data": {
            "text/plain": "XGBClassifier(base_score=0.5, booster='gbtree', colsample_bylevel=1,\n       colsample_bytree=1, gamma=0, learning_rate=0.015, max_delta_step=0,\n       max_depth=8, min_child_weight=1, missing=None, n_estimators=500,\n       n_jobs=1, nthread=-1, objective='multi:softprob', random_state=0,\n       reg_alpha=0, reg_lambda=1, scale_pos_weight=1, seed=None,\n       silent=True, subsample=1)"
          },
          "metadata": {}
        }
      ]
    },
    {
      "metadata": {
        "trusted": true,
        "_uuid": "cd7c365f2d66dbef1288c3250f1acf31d98361b6"
      },
      "cell_type": "code",
      "source": "pred = model.predict(test_df)",
      "execution_count": 50,
      "outputs": []
    },
    {
      "metadata": {
        "trusted": true,
        "_uuid": "877718148731ca9086c0d6257e43444c5af9f424"
      },
      "cell_type": "code",
      "source": "sub = pd.read_csv('../input/test/sample_submission.csv')\nsub.AdoptionSpeed = pred\nsub.to_csv('submission.csv', index=False)",
      "execution_count": 51,
      "outputs": []
    }
  ],
  "metadata": {
    "kernelspec": {
      "display_name": "Python 3",
      "language": "python",
      "name": "python3"
    },
    "language_info": {
      "name": "python",
      "version": "3.6.6",
      "mimetype": "text/x-python",
      "codemirror_mode": {
        "name": "ipython",
        "version": 3
      },
      "pygments_lexer": "ipython3",
      "nbconvert_exporter": "python",
      "file_extension": ".py"
    }
  },
  "nbformat": 4,
  "nbformat_minor": 1
}