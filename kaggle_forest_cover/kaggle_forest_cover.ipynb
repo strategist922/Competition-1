{
 "cells": [
  {
   "cell_type": "markdown",
   "metadata": {},
   "source": [
    "# Walk-through of a simple solution to Kaggle's 'Forest Cover Type Prediction' competition"
   ]
  },
  {
   "cell_type": "markdown",
   "metadata": {},
   "source": [
    "## 1. Examine the data"
   ]
  },
  {
   "cell_type": "code",
   "execution_count": 27,
   "metadata": {},
   "outputs": [],
   "source": [
    "import pandas as pd\n",
    "pd.set_option('display.max_rows',20)\n",
    "pd.set_option('display.max_columns',10)"
   ]
  },
  {
   "cell_type": "markdown",
   "metadata": {},
   "source": [
    "Read in the data as pandas dataframes. Data was downloaded as csv files from the [Kaggle competition Data page](http://www.kaggle.com/c/forest-cover-type-prediction/data)."
   ]
  },
  {
   "cell_type": "code",
   "execution_count": 28,
   "metadata": {},
   "outputs": [],
   "source": [
    "train=pd.read_csv('train.csv')\n",
    "test=pd.read_csv('test.csv')"
   ]
  },
  {
   "cell_type": "markdown",
   "metadata": {},
   "source": [
    "Let's take a look at what features we have."
   ]
  },
  {
   "cell_type": "code",
   "execution_count": 29,
   "metadata": {},
   "outputs": [
    {
     "name": "stdout",
     "output_type": "stream",
     "text": [
      "<class 'pandas.core.frame.DataFrame'>\n",
      "Int64Index: 15120 entries, 0 to 15119\n",
      "Data columns (total 56 columns):\n",
      "Id                                    15120 non-null int64\n",
      "Elevation                             15120 non-null int64\n",
      "Aspect                                15120 non-null int64\n",
      "Slope                                 15120 non-null int64\n",
      "Horizontal_Distance_To_Hydrology      15120 non-null int64\n",
      "Vertical_Distance_To_Hydrology        15120 non-null int64\n",
      "Horizontal_Distance_To_Roadways       15120 non-null int64\n",
      "Hillshade_9am                         15120 non-null int64\n",
      "Hillshade_Noon                        15120 non-null int64\n",
      "Hillshade_3pm                         15120 non-null int64\n",
      "Horizontal_Distance_To_Fire_Points    15120 non-null int64\n",
      "Wilderness_Area1                      15120 non-null int64\n",
      "Wilderness_Area2                      15120 non-null int64\n",
      "Wilderness_Area3                      15120 non-null int64\n",
      "Wilderness_Area4                      15120 non-null int64\n",
      "Soil_Type1                            15120 non-null int64\n",
      "Soil_Type2                            15120 non-null int64\n",
      "Soil_Type3                            15120 non-null int64\n",
      "Soil_Type4                            15120 non-null int64\n",
      "Soil_Type5                            15120 non-null int64\n",
      "Soil_Type6                            15120 non-null int64\n",
      "Soil_Type7                            15120 non-null int64\n",
      "Soil_Type8                            15120 non-null int64\n",
      "Soil_Type9                            15120 non-null int64\n",
      "Soil_Type10                           15120 non-null int64\n",
      "Soil_Type11                           15120 non-null int64\n",
      "Soil_Type12                           15120 non-null int64\n",
      "Soil_Type13                           15120 non-null int64\n",
      "Soil_Type14                           15120 non-null int64\n",
      "Soil_Type15                           15120 non-null int64\n",
      "Soil_Type16                           15120 non-null int64\n",
      "Soil_Type17                           15120 non-null int64\n",
      "Soil_Type18                           15120 non-null int64\n",
      "Soil_Type19                           15120 non-null int64\n",
      "Soil_Type20                           15120 non-null int64\n",
      "Soil_Type21                           15120 non-null int64\n",
      "Soil_Type22                           15120 non-null int64\n",
      "Soil_Type23                           15120 non-null int64\n",
      "Soil_Type24                           15120 non-null int64\n",
      "Soil_Type25                           15120 non-null int64\n",
      "Soil_Type26                           15120 non-null int64\n",
      "Soil_Type27                           15120 non-null int64\n",
      "Soil_Type28                           15120 non-null int64\n",
      "Soil_Type29                           15120 non-null int64\n",
      "Soil_Type30                           15120 non-null int64\n",
      "Soil_Type31                           15120 non-null int64\n",
      "Soil_Type32                           15120 non-null int64\n",
      "Soil_Type33                           15120 non-null int64\n",
      "Soil_Type34                           15120 non-null int64\n",
      "Soil_Type35                           15120 non-null int64\n",
      "Soil_Type36                           15120 non-null int64\n",
      "Soil_Type37                           15120 non-null int64\n",
      "Soil_Type38                           15120 non-null int64\n",
      "Soil_Type39                           15120 non-null int64\n",
      "Soil_Type40                           15120 non-null int64\n",
      "Cover_Type                            15120 non-null int64\n",
      "dtypes: int64(56)\n",
      "memory usage: 6.6 MB\n"
     ]
    }
   ],
   "source": [
    "train.info()"
   ]
  },
  {
   "cell_type": "markdown",
   "metadata": {},
   "source": [
    "We can see that 'Soil_Type' and 'Wilderness_Area' have already been one-hot encoded, so we don't need to preprocess the categorical variables."
   ]
  },
  {
   "cell_type": "markdown",
   "metadata": {},
   "source": [
    "The 'Ids' column will not be required as a feature, so let's drop it from the train dataframe. We'll need to know the 'Ids' of the test data when submitting our predicitions, so make a copy then drop."
   ]
  },
  {
   "cell_type": "code",
   "execution_count": 30,
   "metadata": {},
   "outputs": [],
   "source": [
    "train=train.drop('Id',axis=1)\n",
    "\n",
    "ids=test['Id']\n",
    "test=test.drop('Id',axis=1)    "
   ]
  },
  {
   "cell_type": "markdown",
   "metadata": {},
   "source": [
    "Seperate training data into features (xtrain) and targets (y)."
   ]
  },
  {
   "cell_type": "code",
   "execution_count": 31,
   "metadata": {},
   "outputs": [],
   "source": [
    "y=train['Cover_Type']\n",
    "xtrain=train.drop('Cover_Type',axis=1)"
   ]
  },
  {
   "cell_type": "markdown",
   "metadata": {},
   "source": [
    "The first 10 features are the only non-categorical ones. Let's examine these more closely."
   ]
  },
  {
   "cell_type": "code",
   "execution_count": 32,
   "metadata": {},
   "outputs": [
    {
     "data": {
      "text/html": [
       "<div>\n",
       "<table border=\"1\" class=\"dataframe\">\n",
       "  <thead>\n",
       "    <tr style=\"text-align: right;\">\n",
       "      <th></th>\n",
       "      <th>Elevation</th>\n",
       "      <th>Aspect</th>\n",
       "      <th>Slope</th>\n",
       "      <th>Horizontal_Distance_To_Hydrology</th>\n",
       "      <th>Vertical_Distance_To_Hydrology</th>\n",
       "    </tr>\n",
       "  </thead>\n",
       "  <tbody>\n",
       "    <tr>\n",
       "      <th>count</th>\n",
       "      <td>15120.000000</td>\n",
       "      <td>15120.000000</td>\n",
       "      <td>15120.000000</td>\n",
       "      <td>15120.000000</td>\n",
       "      <td>15120.000000</td>\n",
       "    </tr>\n",
       "    <tr>\n",
       "      <th>mean</th>\n",
       "      <td>2749.322553</td>\n",
       "      <td>156.676653</td>\n",
       "      <td>16.501587</td>\n",
       "      <td>227.195701</td>\n",
       "      <td>51.076521</td>\n",
       "    </tr>\n",
       "    <tr>\n",
       "      <th>std</th>\n",
       "      <td>417.678187</td>\n",
       "      <td>110.085801</td>\n",
       "      <td>8.453927</td>\n",
       "      <td>210.075296</td>\n",
       "      <td>61.239406</td>\n",
       "    </tr>\n",
       "    <tr>\n",
       "      <th>min</th>\n",
       "      <td>1863.000000</td>\n",
       "      <td>0.000000</td>\n",
       "      <td>0.000000</td>\n",
       "      <td>0.000000</td>\n",
       "      <td>-146.000000</td>\n",
       "    </tr>\n",
       "    <tr>\n",
       "      <th>25%</th>\n",
       "      <td>2376.000000</td>\n",
       "      <td>65.000000</td>\n",
       "      <td>10.000000</td>\n",
       "      <td>67.000000</td>\n",
       "      <td>5.000000</td>\n",
       "    </tr>\n",
       "    <tr>\n",
       "      <th>50%</th>\n",
       "      <td>2752.000000</td>\n",
       "      <td>126.000000</td>\n",
       "      <td>15.000000</td>\n",
       "      <td>180.000000</td>\n",
       "      <td>32.000000</td>\n",
       "    </tr>\n",
       "    <tr>\n",
       "      <th>75%</th>\n",
       "      <td>3104.000000</td>\n",
       "      <td>261.000000</td>\n",
       "      <td>22.000000</td>\n",
       "      <td>330.000000</td>\n",
       "      <td>79.000000</td>\n",
       "    </tr>\n",
       "    <tr>\n",
       "      <th>max</th>\n",
       "      <td>3849.000000</td>\n",
       "      <td>360.000000</td>\n",
       "      <td>52.000000</td>\n",
       "      <td>1343.000000</td>\n",
       "      <td>554.000000</td>\n",
       "    </tr>\n",
       "  </tbody>\n",
       "</table>\n",
       "</div>"
      ],
      "text/plain": [
       "          Elevation        Aspect         Slope  \\\n",
       "count  15120.000000  15120.000000  15120.000000   \n",
       "mean    2749.322553    156.676653     16.501587   \n",
       "std      417.678187    110.085801      8.453927   \n",
       "min     1863.000000      0.000000      0.000000   \n",
       "25%     2376.000000     65.000000     10.000000   \n",
       "50%     2752.000000    126.000000     15.000000   \n",
       "75%     3104.000000    261.000000     22.000000   \n",
       "max     3849.000000    360.000000     52.000000   \n",
       "\n",
       "       Horizontal_Distance_To_Hydrology  Vertical_Distance_To_Hydrology  \n",
       "count                      15120.000000                    15120.000000  \n",
       "mean                         227.195701                       51.076521  \n",
       "std                          210.075296                       61.239406  \n",
       "min                            0.000000                     -146.000000  \n",
       "25%                           67.000000                        5.000000  \n",
       "50%                          180.000000                       32.000000  \n",
       "75%                          330.000000                       79.000000  \n",
       "max                         1343.000000                      554.000000  "
      ]
     },
     "execution_count": 32,
     "metadata": {},
     "output_type": "execute_result"
    }
   ],
   "source": [
    "train.ix[:,:5].describe()"
   ]
  },
  {
   "cell_type": "code",
   "execution_count": 33,
   "metadata": {},
   "outputs": [
    {
     "data": {
      "text/html": [
       "<div>\n",
       "<table border=\"1\" class=\"dataframe\">\n",
       "  <thead>\n",
       "    <tr style=\"text-align: right;\">\n",
       "      <th></th>\n",
       "      <th>Horizontal_Distance_To_Roadways</th>\n",
       "      <th>Hillshade_9am</th>\n",
       "      <th>Hillshade_Noon</th>\n",
       "      <th>Hillshade_3pm</th>\n",
       "      <th>Horizontal_Distance_To_Fire_Points</th>\n",
       "    </tr>\n",
       "  </thead>\n",
       "  <tbody>\n",
       "    <tr>\n",
       "      <th>count</th>\n",
       "      <td>15120.000000</td>\n",
       "      <td>15120.000000</td>\n",
       "      <td>15120.000000</td>\n",
       "      <td>15120.000000</td>\n",
       "      <td>15120.000000</td>\n",
       "    </tr>\n",
       "    <tr>\n",
       "      <th>mean</th>\n",
       "      <td>1714.023214</td>\n",
       "      <td>212.704299</td>\n",
       "      <td>218.965608</td>\n",
       "      <td>135.091997</td>\n",
       "      <td>1511.147288</td>\n",
       "    </tr>\n",
       "    <tr>\n",
       "      <th>std</th>\n",
       "      <td>1325.066358</td>\n",
       "      <td>30.561287</td>\n",
       "      <td>22.801966</td>\n",
       "      <td>45.895189</td>\n",
       "      <td>1099.936493</td>\n",
       "    </tr>\n",
       "    <tr>\n",
       "      <th>min</th>\n",
       "      <td>0.000000</td>\n",
       "      <td>0.000000</td>\n",
       "      <td>99.000000</td>\n",
       "      <td>0.000000</td>\n",
       "      <td>0.000000</td>\n",
       "    </tr>\n",
       "    <tr>\n",
       "      <th>25%</th>\n",
       "      <td>764.000000</td>\n",
       "      <td>196.000000</td>\n",
       "      <td>207.000000</td>\n",
       "      <td>106.000000</td>\n",
       "      <td>730.000000</td>\n",
       "    </tr>\n",
       "    <tr>\n",
       "      <th>50%</th>\n",
       "      <td>1316.000000</td>\n",
       "      <td>220.000000</td>\n",
       "      <td>223.000000</td>\n",
       "      <td>138.000000</td>\n",
       "      <td>1256.000000</td>\n",
       "    </tr>\n",
       "    <tr>\n",
       "      <th>75%</th>\n",
       "      <td>2270.000000</td>\n",
       "      <td>235.000000</td>\n",
       "      <td>235.000000</td>\n",
       "      <td>167.000000</td>\n",
       "      <td>1988.250000</td>\n",
       "    </tr>\n",
       "    <tr>\n",
       "      <th>max</th>\n",
       "      <td>6890.000000</td>\n",
       "      <td>254.000000</td>\n",
       "      <td>254.000000</td>\n",
       "      <td>248.000000</td>\n",
       "      <td>6993.000000</td>\n",
       "    </tr>\n",
       "  </tbody>\n",
       "</table>\n",
       "</div>"
      ],
      "text/plain": [
       "       Horizontal_Distance_To_Roadways  Hillshade_9am  Hillshade_Noon  \\\n",
       "count                     15120.000000   15120.000000    15120.000000   \n",
       "mean                       1714.023214     212.704299      218.965608   \n",
       "std                        1325.066358      30.561287       22.801966   \n",
       "min                           0.000000       0.000000       99.000000   \n",
       "25%                         764.000000     196.000000      207.000000   \n",
       "50%                        1316.000000     220.000000      223.000000   \n",
       "75%                        2270.000000     235.000000      235.000000   \n",
       "max                        6890.000000     254.000000      254.000000   \n",
       "\n",
       "       Hillshade_3pm  Horizontal_Distance_To_Fire_Points  \n",
       "count   15120.000000                        15120.000000  \n",
       "mean      135.091997                         1511.147288  \n",
       "std        45.895189                         1099.936493  \n",
       "min         0.000000                            0.000000  \n",
       "25%       106.000000                          730.000000  \n",
       "50%       138.000000                         1256.000000  \n",
       "75%       167.000000                         1988.250000  \n",
       "max       248.000000                         6993.000000  "
      ]
     },
     "execution_count": 33,
     "metadata": {},
     "output_type": "execute_result"
    }
   ],
   "source": [
    "train.ix[:,5:10].describe()"
   ]
  },
  {
   "cell_type": "markdown",
   "metadata": {},
   "source": [
    "It's clear we'll need to scale these non-catgeorical features if we want to use Support Vector Machines/linear models."
   ]
  },
  {
   "cell_type": "markdown",
   "metadata": {},
   "source": [
    "## 2. Feature Scaling"
   ]
  },
  {
   "cell_type": "markdown",
   "metadata": {},
   "source": [
    "Let's use StandardScaler from sklearn. We can fit it to the training data and then use it to transform both the training and test data in exactly the same way."
   ]
  },
  {
   "cell_type": "code",
   "execution_count": 34,
   "metadata": {},
   "outputs": [
    {
     "ename": "ValueError",
     "evalue": "Expected 2D array, got 1D array instead:\narray=[2596. 2590. 2804. ... 2492. 2487. 2475.].\nReshape your data either using array.reshape(-1, 1) if your data has a single feature or array.reshape(1, -1) if it contains a single sample.",
     "output_type": "error",
     "traceback": [
      "\u001b[0;31m---------------------------------------------------------------------------\u001b[0m",
      "\u001b[0;31mValueError\u001b[0m                                Traceback (most recent call last)",
      "\u001b[0;32m<ipython-input-34-68db60f42a7e>\u001b[0m in \u001b[0;36m<module>\u001b[0;34m()\u001b[0m\n\u001b[1;32m     10\u001b[0m \u001b[0;34m\u001b[0m\u001b[0m\n\u001b[1;32m     11\u001b[0m \u001b[0;32mfor\u001b[0m \u001b[0mcol\u001b[0m \u001b[0;32min\u001b[0m \u001b[0mcolToScale\u001b[0m\u001b[0;34m:\u001b[0m\u001b[0;34m\u001b[0m\u001b[0m\n\u001b[0;32m---> 12\u001b[0;31m     \u001b[0mscaler\u001b[0m \u001b[0;34m=\u001b[0m \u001b[0mpreprocessing\u001b[0m\u001b[0;34m.\u001b[0m\u001b[0mStandardScaler\u001b[0m\u001b[0;34m(\u001b[0m\u001b[0;34m)\u001b[0m\u001b[0;34m.\u001b[0m\u001b[0mfit\u001b[0m\u001b[0;34m(\u001b[0m\u001b[0mtrain\u001b[0m\u001b[0;34m[\u001b[0m\u001b[0mcol\u001b[0m\u001b[0;34m]\u001b[0m\u001b[0;34m.\u001b[0m\u001b[0mvalues\u001b[0m\u001b[0;34m.\u001b[0m\u001b[0mastype\u001b[0m\u001b[0;34m(\u001b[0m\u001b[0;34m'float_'\u001b[0m\u001b[0;34m)\u001b[0m\u001b[0;34m)\u001b[0m\u001b[0;34m\u001b[0m\u001b[0m\n\u001b[0m\u001b[1;32m     13\u001b[0m     \u001b[0mxtrain_scale\u001b[0m\u001b[0;34m[\u001b[0m\u001b[0mcol\u001b[0m\u001b[0;34m]\u001b[0m \u001b[0;34m=\u001b[0m \u001b[0mscaler\u001b[0m\u001b[0;34m.\u001b[0m\u001b[0mtransform\u001b[0m\u001b[0;34m(\u001b[0m\u001b[0mxtrain\u001b[0m\u001b[0;34m[\u001b[0m\u001b[0mcol\u001b[0m\u001b[0;34m]\u001b[0m\u001b[0;34m.\u001b[0m\u001b[0mvalues\u001b[0m\u001b[0;34m.\u001b[0m\u001b[0mastype\u001b[0m\u001b[0;34m(\u001b[0m\u001b[0;34m'float_'\u001b[0m\u001b[0;34m)\u001b[0m\u001b[0;34m)\u001b[0m\u001b[0;34m\u001b[0m\u001b[0m\n\u001b[1;32m     14\u001b[0m     \u001b[0mtest_scale\u001b[0m\u001b[0;34m[\u001b[0m\u001b[0mcol\u001b[0m\u001b[0;34m]\u001b[0m \u001b[0;34m=\u001b[0m \u001b[0mscaler\u001b[0m\u001b[0;34m.\u001b[0m\u001b[0mtransform\u001b[0m\u001b[0;34m(\u001b[0m\u001b[0mtest\u001b[0m\u001b[0;34m[\u001b[0m\u001b[0mcol\u001b[0m\u001b[0;34m]\u001b[0m\u001b[0;34m.\u001b[0m\u001b[0mvalues\u001b[0m\u001b[0;34m.\u001b[0m\u001b[0mastype\u001b[0m\u001b[0;34m(\u001b[0m\u001b[0;34m'float_'\u001b[0m\u001b[0;34m)\u001b[0m\u001b[0;34m)\u001b[0m\u001b[0;34m\u001b[0m\u001b[0m\n",
      "\u001b[0;32m/usr/local/lib/python3.5/dist-packages/sklearn/preprocessing/data.py\u001b[0m in \u001b[0;36mfit\u001b[0;34m(self, X, y)\u001b[0m\n\u001b[1;32m    588\u001b[0m         \u001b[0;31m# Reset internal state before fitting\u001b[0m\u001b[0;34m\u001b[0m\u001b[0;34m\u001b[0m\u001b[0m\n\u001b[1;32m    589\u001b[0m         \u001b[0mself\u001b[0m\u001b[0;34m.\u001b[0m\u001b[0m_reset\u001b[0m\u001b[0;34m(\u001b[0m\u001b[0;34m)\u001b[0m\u001b[0;34m\u001b[0m\u001b[0m\n\u001b[0;32m--> 590\u001b[0;31m         \u001b[0;32mreturn\u001b[0m \u001b[0mself\u001b[0m\u001b[0;34m.\u001b[0m\u001b[0mpartial_fit\u001b[0m\u001b[0;34m(\u001b[0m\u001b[0mX\u001b[0m\u001b[0;34m,\u001b[0m \u001b[0my\u001b[0m\u001b[0;34m)\u001b[0m\u001b[0;34m\u001b[0m\u001b[0m\n\u001b[0m\u001b[1;32m    591\u001b[0m \u001b[0;34m\u001b[0m\u001b[0m\n\u001b[1;32m    592\u001b[0m     \u001b[0;32mdef\u001b[0m \u001b[0mpartial_fit\u001b[0m\u001b[0;34m(\u001b[0m\u001b[0mself\u001b[0m\u001b[0;34m,\u001b[0m \u001b[0mX\u001b[0m\u001b[0;34m,\u001b[0m \u001b[0my\u001b[0m\u001b[0;34m=\u001b[0m\u001b[0;32mNone\u001b[0m\u001b[0;34m)\u001b[0m\u001b[0;34m:\u001b[0m\u001b[0;34m\u001b[0m\u001b[0m\n",
      "\u001b[0;32m/usr/local/lib/python3.5/dist-packages/sklearn/preprocessing/data.py\u001b[0m in \u001b[0;36mpartial_fit\u001b[0;34m(self, X, y)\u001b[0m\n\u001b[1;32m    610\u001b[0m         \"\"\"\n\u001b[1;32m    611\u001b[0m         X = check_array(X, accept_sparse=('csr', 'csc'), copy=self.copy,\n\u001b[0;32m--> 612\u001b[0;31m                         warn_on_dtype=True, estimator=self, dtype=FLOAT_DTYPES)\n\u001b[0m\u001b[1;32m    613\u001b[0m \u001b[0;34m\u001b[0m\u001b[0m\n\u001b[1;32m    614\u001b[0m         \u001b[0;31m# Even in the case of `with_mean=False`, we update the mean anyway\u001b[0m\u001b[0;34m\u001b[0m\u001b[0;34m\u001b[0m\u001b[0m\n",
      "\u001b[0;32m/usr/local/lib/python3.5/dist-packages/sklearn/utils/validation.py\u001b[0m in \u001b[0;36mcheck_array\u001b[0;34m(array, accept_sparse, dtype, order, copy, force_all_finite, ensure_2d, allow_nd, ensure_min_samples, ensure_min_features, warn_on_dtype, estimator)\u001b[0m\n\u001b[1;32m    439\u001b[0m                     \u001b[0;34m\"Reshape your data either using array.reshape(-1, 1) if \"\u001b[0m\u001b[0;34m\u001b[0m\u001b[0m\n\u001b[1;32m    440\u001b[0m                     \u001b[0;34m\"your data has a single feature or array.reshape(1, -1) \"\u001b[0m\u001b[0;34m\u001b[0m\u001b[0m\n\u001b[0;32m--> 441\u001b[0;31m                     \"if it contains a single sample.\".format(array))\n\u001b[0m\u001b[1;32m    442\u001b[0m             \u001b[0marray\u001b[0m \u001b[0;34m=\u001b[0m \u001b[0mnp\u001b[0m\u001b[0;34m.\u001b[0m\u001b[0matleast_2d\u001b[0m\u001b[0;34m(\u001b[0m\u001b[0marray\u001b[0m\u001b[0;34m)\u001b[0m\u001b[0;34m\u001b[0m\u001b[0m\n\u001b[1;32m    443\u001b[0m             \u001b[0;31m# To ensure that array flags are maintained\u001b[0m\u001b[0;34m\u001b[0m\u001b[0;34m\u001b[0m\u001b[0m\n",
      "\u001b[0;31mValueError\u001b[0m: Expected 2D array, got 1D array instead:\narray=[2596. 2590. 2804. ... 2492. 2487. 2475.].\nReshape your data either using array.reshape(-1, 1) if your data has a single feature or array.reshape(1, -1) if it contains a single sample."
     ]
    }
   ],
   "source": [
    "from sklearn import preprocessing\n",
    "\n",
    "colToScale=['Elevation','Aspect','Slope','Horizontal_Distance_To_Hydrology', \n",
    "             'Vertical_Distance_To_Hydrology', 'Horizontal_Distance_To_Roadways', \n",
    "             'Hillshade_9am', 'Hillshade_Noon', 'Hillshade_3pm', \n",
    "             'Horizontal_Distance_To_Fire_Points']\n",
    "    \n",
    "xtrain_scale=xtrain.copy()\n",
    "test_scale=test.copy()\n",
    "\n",
    "for col in colToScale:\n",
    "    scaler = preprocessing.StandardScaler().fit(train[col].values.astype('float_'))\n",
    "    xtrain_scale[col] = scaler.transform(xtrain[col].values.astype('float_'))\n",
    "    test_scale[col] = scaler.transform(test[col].values.astype('float_'))"
   ]
  },
  {
   "cell_type": "markdown",
   "metadata": {},
   "source": [
    "Display the properties of some of the transformed features to confirm they now have mean=0 and std=1."
   ]
  },
  {
   "cell_type": "code",
   "execution_count": 21,
   "metadata": {},
   "outputs": [
    {
     "data": {
      "text/html": [
       "<div>\n",
       "<table border=\"1\" class=\"dataframe\">\n",
       "  <thead>\n",
       "    <tr style=\"text-align: right;\">\n",
       "      <th></th>\n",
       "      <th>Horizontal_Distance_To_Roadways</th>\n",
       "      <th>Hillshade_9am</th>\n",
       "      <th>Hillshade_Noon</th>\n",
       "      <th>Hillshade_3pm</th>\n",
       "      <th>Horizontal_Distance_To_Fire_Points</th>\n",
       "    </tr>\n",
       "  </thead>\n",
       "  <tbody>\n",
       "    <tr>\n",
       "      <th>count</th>\n",
       "      <td>15120.000000</td>\n",
       "      <td>15120.000000</td>\n",
       "      <td>15120.000000</td>\n",
       "      <td>15120.000000</td>\n",
       "      <td>15120.000000</td>\n",
       "    </tr>\n",
       "    <tr>\n",
       "      <th>mean</th>\n",
       "      <td>1714.023214</td>\n",
       "      <td>212.704299</td>\n",
       "      <td>218.965608</td>\n",
       "      <td>135.091997</td>\n",
       "      <td>1511.147288</td>\n",
       "    </tr>\n",
       "    <tr>\n",
       "      <th>std</th>\n",
       "      <td>1325.066358</td>\n",
       "      <td>30.561287</td>\n",
       "      <td>22.801966</td>\n",
       "      <td>45.895189</td>\n",
       "      <td>1099.936493</td>\n",
       "    </tr>\n",
       "    <tr>\n",
       "      <th>min</th>\n",
       "      <td>0.000000</td>\n",
       "      <td>0.000000</td>\n",
       "      <td>99.000000</td>\n",
       "      <td>0.000000</td>\n",
       "      <td>0.000000</td>\n",
       "    </tr>\n",
       "    <tr>\n",
       "      <th>25%</th>\n",
       "      <td>764.000000</td>\n",
       "      <td>196.000000</td>\n",
       "      <td>207.000000</td>\n",
       "      <td>106.000000</td>\n",
       "      <td>730.000000</td>\n",
       "    </tr>\n",
       "    <tr>\n",
       "      <th>50%</th>\n",
       "      <td>1316.000000</td>\n",
       "      <td>220.000000</td>\n",
       "      <td>223.000000</td>\n",
       "      <td>138.000000</td>\n",
       "      <td>1256.000000</td>\n",
       "    </tr>\n",
       "    <tr>\n",
       "      <th>75%</th>\n",
       "      <td>2270.000000</td>\n",
       "      <td>235.000000</td>\n",
       "      <td>235.000000</td>\n",
       "      <td>167.000000</td>\n",
       "      <td>1988.250000</td>\n",
       "    </tr>\n",
       "    <tr>\n",
       "      <th>max</th>\n",
       "      <td>6890.000000</td>\n",
       "      <td>254.000000</td>\n",
       "      <td>254.000000</td>\n",
       "      <td>248.000000</td>\n",
       "      <td>6993.000000</td>\n",
       "    </tr>\n",
       "  </tbody>\n",
       "</table>\n",
       "</div>"
      ],
      "text/plain": [
       "       Horizontal_Distance_To_Roadways  Hillshade_9am  Hillshade_Noon  \\\n",
       "count                     15120.000000   15120.000000    15120.000000   \n",
       "mean                       1714.023214     212.704299      218.965608   \n",
       "std                        1325.066358      30.561287       22.801966   \n",
       "min                           0.000000       0.000000       99.000000   \n",
       "25%                         764.000000     196.000000      207.000000   \n",
       "50%                        1316.000000     220.000000      223.000000   \n",
       "75%                        2270.000000     235.000000      235.000000   \n",
       "max                        6890.000000     254.000000      254.000000   \n",
       "\n",
       "       Hillshade_3pm  Horizontal_Distance_To_Fire_Points  \n",
       "count   15120.000000                        15120.000000  \n",
       "mean      135.091997                         1511.147288  \n",
       "std        45.895189                         1099.936493  \n",
       "min         0.000000                            0.000000  \n",
       "25%       106.000000                          730.000000  \n",
       "50%       138.000000                         1256.000000  \n",
       "75%       167.000000                         1988.250000  \n",
       "max       248.000000                         6993.000000  "
      ]
     },
     "execution_count": 21,
     "metadata": {},
     "output_type": "execute_result"
    }
   ],
   "source": [
    "xtrain_scale.ix[:,5:10].describe()"
   ]
  },
  {
   "cell_type": "markdown",
   "metadata": {},
   "source": [
    "## 3. Try out a few classifiers"
   ]
  },
  {
   "cell_type": "markdown",
   "metadata": {},
   "source": [
    "Since we have $\\approx$ 15K samples of labeled data, which we are trying to categorise lets try LinearSVC, then KNeighborsClassifier, then Ensemble Classifiers (following the suggestions of the [sklearn cheat sheet](http://scikit-learn.org/stable/tutorial/machine_learning_map/))."
   ]
  },
  {
   "cell_type": "markdown",
   "metadata": {},
   "source": [
    "### a) Support Vector Machine (LinearSVC)"
   ]
  },
  {
   "cell_type": "markdown",
   "metadata": {},
   "source": [
    "Train a LinearSVC estimator using the scaled dataframe, xtrain_scale and print out the number of samples assigned to each 'Cover_Type' catgeory (1 to 7)."
   ]
  },
  {
   "cell_type": "code",
   "execution_count": 22,
   "metadata": {},
   "outputs": [
    {
     "ename": "SyntaxError",
     "evalue": "invalid syntax (<ipython-input-22-af83a556cda3>, line 9)",
     "output_type": "error",
     "traceback": [
      "\u001b[0;36m  File \u001b[0;32m\"<ipython-input-22-af83a556cda3>\"\u001b[0;36m, line \u001b[0;32m9\u001b[0m\n\u001b[0;31m    print pd.Series(ypred_lsvc).value_counts(sort=False)\u001b[0m\n\u001b[0m           ^\u001b[0m\n\u001b[0;31mSyntaxError\u001b[0m\u001b[0;31m:\u001b[0m invalid syntax\n"
     ]
    }
   ],
   "source": [
    "from sklearn.svm import LinearSVC\n",
    "from sklearn import cross_validation\n",
    "\n",
    "clf_lsvc=LinearSVC(dual=False)\n",
    "clf_lsvc.fit(xtrain_scale,y)\n",
    "\n",
    "ypred_lsvc=clf_lsvc.predict(test_scale)\n",
    "\n",
    "print pd.Series(ypred_lsvc).value_counts(sort=False)"
   ]
  },
  {
   "cell_type": "markdown",
   "metadata": {},
   "source": [
    "We can use cross-validation to estimate the accuracy of this classifier."
   ]
  },
  {
   "cell_type": "code",
   "execution_count": 23,
   "metadata": {},
   "outputs": [
    {
     "ename": "NameError",
     "evalue": "name 'cross_validation' is not defined",
     "output_type": "error",
     "traceback": [
      "\u001b[0;31m---------------------------------------------------------------------------\u001b[0m",
      "\u001b[0;31mNameError\u001b[0m                                 Traceback (most recent call last)",
      "\u001b[0;32m<ipython-input-23-f284402fa0e8>\u001b[0m in \u001b[0;36m<module>\u001b[0;34m()\u001b[0m\n\u001b[0;32m----> 1\u001b[0;31m \u001b[0mcross_validation\u001b[0m\u001b[0;34m.\u001b[0m\u001b[0mcross_val_score\u001b[0m\u001b[0;34m(\u001b[0m\u001b[0mclf_lsvc\u001b[0m\u001b[0;34m,\u001b[0m\u001b[0mxtrain_scale\u001b[0m\u001b[0;34m,\u001b[0m\u001b[0my\u001b[0m\u001b[0;34m)\u001b[0m\u001b[0;34m.\u001b[0m\u001b[0mmean\u001b[0m\u001b[0;34m(\u001b[0m\u001b[0;34m)\u001b[0m\u001b[0;34m\u001b[0m\u001b[0m\n\u001b[0m",
      "\u001b[0;31mNameError\u001b[0m: name 'cross_validation' is not defined"
     ]
    }
   ],
   "source": [
    "cross_validation.cross_val_score(clf_lsvc,xtrain_scale,y).mean()"
   ]
  },
  {
   "cell_type": "markdown",
   "metadata": {},
   "source": [
    "### b) K Nearest Neighbors (kNeighborsClassifier)"
   ]
  },
  {
   "cell_type": "markdown",
   "metadata": {},
   "source": [
    "Train a KNeighborsClassifier model using the scaled dataframe, xtrain_scale."
   ]
  },
  {
   "cell_type": "code",
   "execution_count": 24,
   "metadata": {},
   "outputs": [
    {
     "ename": "SyntaxError",
     "evalue": "invalid syntax (<ipython-input-24-1ad13e0925c4>, line 8)",
     "output_type": "error",
     "traceback": [
      "\u001b[0;36m  File \u001b[0;32m\"<ipython-input-24-1ad13e0925c4>\"\u001b[0;36m, line \u001b[0;32m8\u001b[0m\n\u001b[0;31m    print pd.Series(ypred_knn).value_counts(sort=False)\u001b[0m\n\u001b[0m           ^\u001b[0m\n\u001b[0;31mSyntaxError\u001b[0m\u001b[0;31m:\u001b[0m invalid syntax\n"
     ]
    }
   ],
   "source": [
    "from sklearn.neighbors import KNeighborsClassifier\n",
    "\n",
    "clf_knn=KNeighborsClassifier()\n",
    "clf_knn.fit(xtrain_scale,y)\n",
    "\n",
    "ypred_knn=clf_knn.predict(test_scale)\n",
    "\n",
    "print pd.Series(ypred_knn).value_counts(sort=False)"
   ]
  },
  {
   "cell_type": "code",
   "execution_count": 25,
   "metadata": {},
   "outputs": [
    {
     "ename": "NameError",
     "evalue": "name 'cross_validation' is not defined",
     "output_type": "error",
     "traceback": [
      "\u001b[0;31m---------------------------------------------------------------------------\u001b[0m",
      "\u001b[0;31mNameError\u001b[0m                                 Traceback (most recent call last)",
      "\u001b[0;32m<ipython-input-25-d3bf67525986>\u001b[0m in \u001b[0;36m<module>\u001b[0;34m()\u001b[0m\n\u001b[0;32m----> 1\u001b[0;31m \u001b[0mcross_validation\u001b[0m\u001b[0;34m.\u001b[0m\u001b[0mcross_val_score\u001b[0m\u001b[0;34m(\u001b[0m\u001b[0mclf_knn\u001b[0m\u001b[0;34m,\u001b[0m\u001b[0mxtrain_scale\u001b[0m\u001b[0;34m,\u001b[0m\u001b[0my\u001b[0m\u001b[0;34m)\u001b[0m\u001b[0;34m.\u001b[0m\u001b[0mmean\u001b[0m\u001b[0;34m(\u001b[0m\u001b[0;34m)\u001b[0m\u001b[0;34m\u001b[0m\u001b[0m\n\u001b[0m",
      "\u001b[0;31mNameError\u001b[0m: name 'cross_validation' is not defined"
     ]
    }
   ],
   "source": [
    "cross_validation.cross_val_score(clf_knn,xtrain_scale,y).mean()"
   ]
  },
  {
   "cell_type": "markdown",
   "metadata": {},
   "source": [
    "### c) Ensemble classifier (RandomForestClassifier)"
   ]
  },
  {
   "cell_type": "markdown",
   "metadata": {},
   "source": [
    "We don't need to scale the data for use with random forests, so use the original dataframes."
   ]
  },
  {
   "cell_type": "code",
   "execution_count": 14,
   "metadata": {},
   "outputs": [
    {
     "name": "stdout",
     "output_type": "stream",
     "text": [
      "1    226247\n",
      "2    211511\n",
      "3     37522\n",
      "4      2752\n",
      "5     32953\n",
      "6     23763\n",
      "7     31144\n",
      "dtype: int64\n"
     ]
    }
   ],
   "source": [
    "from sklearn.ensemble import RandomForestClassifier\n",
    "\n",
    "clf_rf=RandomForestClassifier(random_state=0)\n",
    "clf_rf.fit(xtrain,y)\n",
    "\n",
    "ypred_rf=clf_rf.predict(test)\n",
    "\n",
    "print pd.Series(ypred_rf).value_counts(sort=False)"
   ]
  },
  {
   "cell_type": "code",
   "execution_count": 15,
   "metadata": {},
   "outputs": [
    {
     "data": {
      "text/plain": [
       "0.74629629629629635"
      ]
     },
     "execution_count": 15,
     "metadata": {},
     "output_type": "execute_result"
    }
   ],
   "source": [
    "cross_validation.cross_val_score(clf_rf,xtrain,y).mean()"
   ]
  },
  {
   "cell_type": "markdown",
   "metadata": {},
   "source": [
    "### d) Conclusion"
   ]
  },
  {
   "cell_type": "markdown",
   "metadata": {},
   "source": [
    "From our cross-validation estimates it seems that RandomForestClassifier is the most accurate (with default parameters), so let's continue to work with that. First let's write the predicitions for the test data to file so we can upload to Kaggle for assessment."
   ]
  },
  {
   "cell_type": "code",
   "execution_count": 16,
   "metadata": {},
   "outputs": [],
   "source": [
    "pd.DataFrame({'Id':ids,'Cover_Type':ypred_rf},\n",
    "            columns=['Id','Cover_Type']).to_csv('submission_rf.csv',index=False)"
   ]
  },
  {
   "cell_type": "markdown",
   "metadata": {},
   "source": [
    "## 4. Optimise the hyperparameters of the chosen classifier"
   ]
  },
  {
   "cell_type": "markdown",
   "metadata": {},
   "source": [
    "The most important parameters for RandomForestClassifier are n_estimators (the number of trees) and max_features. \n",
    "\n",
    "Max_features='sqrt' is a good option for classification tasks (according to the docs) so we will use that."
   ]
  },
  {
   "cell_type": "code",
   "execution_count": 17,
   "metadata": {},
   "outputs": [
    {
     "data": {
      "text/plain": [
       "RandomForestClassifier(bootstrap=True, compute_importances=None,\n",
       "            criterion='gini', max_depth=None, max_features='sqrt',\n",
       "            max_leaf_nodes=None, min_density=None, min_samples_leaf=1,\n",
       "            min_samples_split=2, n_estimators=10, n_jobs=1,\n",
       "            oob_score=False, random_state=0, verbose=0)"
      ]
     },
     "execution_count": 17,
     "metadata": {},
     "output_type": "execute_result"
    }
   ],
   "source": [
    "clf_rf.set_params(max_features='sqrt')"
   ]
  },
  {
   "cell_type": "markdown",
   "metadata": {},
   "source": [
    "More trees is better, but will take longer and improvements will plateau eventually. Lets plot the cross-validation score for different values of n_estimators to help choose the optimal value."
   ]
  },
  {
   "cell_type": "code",
   "execution_count": 18,
   "metadata": {},
   "outputs": [
    {
     "data": {
      "text/plain": [
       "[<matplotlib.lines.Line2D at 0x14a463990>]"
      ]
     },
     "execution_count": 18,
     "metadata": {},
     "output_type": "execute_result"
    },
    {
     "data": {
      "image/png": "[encoded data removed]",
      "text/plain": [
       "<matplotlib.figure.Figure at 0x105b41e10>"
      ]
     },
     "metadata": {},
     "output_type": "display_data"
    }
   ],
   "source": [
    "from sklearn.learning_curve import validation_curve\n",
    "\n",
    "prange=np.arange(50,650,50)\n",
    "train_scores, cv_scores = validation_curve(clf_rf, xtrain, y,param_name='n_estimators',\n",
    "                                              param_range=prange)\n",
    "\n",
    "plt.xlabel('n_estimators')\n",
    "plt.ylabel('Mean CV score')\n",
    "plt.plot(prange, np.mean(cv_scores, axis=1), label=\"Cross-validation score\",color=\"r\")"
   ]
  },
  {
   "cell_type": "markdown",
   "metadata": {},
   "source": [
    "After n_estimators=350 the cross-validation score begins to decrease again, so we will use 350."
   ]
  },
  {
   "cell_type": "markdown",
   "metadata": {},
   "source": [
    "Set chosen parameters and fit the model again."
   ]
  },
  {
   "cell_type": "code",
   "execution_count": 20,
   "metadata": {},
   "outputs": [
    {
     "data": {
      "text/plain": [
       "0.78518518518518521"
      ]
     },
     "execution_count": 20,
     "metadata": {},
     "output_type": "execute_result"
    }
   ],
   "source": [
    "clf_rf.set_params(n_estimators=350)\n",
    "\n",
    "clf_rf.fit(xtrain,y)\n",
    "\n",
    "cross_validation.cross_val_score(clf_rf,xtrain,y).mean()"
   ]
  },
  {
   "cell_type": "markdown",
   "metadata": {},
   "source": [
    "Great! Our estimated accuracy score has improved compared with the RandomForestClassifier with the default parameters."
   ]
  },
  {
   "cell_type": "markdown",
   "metadata": {},
   "source": [
    "Write predictions to a csv file so we can submit to Kaggle."
   ]
  },
  {
   "cell_type": "code",
   "execution_count": 21,
   "metadata": {},
   "outputs": [],
   "source": [
    "ypred_rf_opt=clf_rf.predict(test)\n",
    "\n",
    "pd.DataFrame({'Id':ids,'Cover_Type':ypred_rf_opt},\n",
    "              columns=['Id','Cover_Type']).to_csv('submission_rf_opt.csv',index=False)"
   ]
  },
  {
   "cell_type": "markdown",
   "metadata": {},
   "source": [
    "## 5. Feature engineering"
   ]
  },
  {
   "cell_type": "markdown",
   "metadata": {},
   "source": [
    "Let's try to glean extra information from the data by creating new features from existing ones. \n",
    "\n",
    "An obvious choice is computing the absolute distance to hydrology from the vertical and horizontal distances."
   ]
  },
  {
   "cell_type": "code",
   "execution_count": 22,
   "metadata": {},
   "outputs": [],
   "source": [
    "def feat_eng(df):\n",
    "    \n",
    "    #absolute distance to water\n",
    "    df['Distance_To_Hydrology']=(df['Vertical_Distance_To_Hydrology']**2.0+\n",
    "                                 df['Horizontal_Distance_To_Hydrology']**2.0)**0.5\n",
    "    \n",
    "feat_eng(xtrain)\n",
    "feat_eng(test)"
   ]
  },
  {
   "cell_type": "code",
   "execution_count": 23,
   "metadata": {},
   "outputs": [
    {
     "data": {
      "text/plain": [
       "0.78148148148148155"
      ]
     },
     "execution_count": 23,
     "metadata": {},
     "output_type": "execute_result"
    }
   ],
   "source": [
    "clf_rf.fit(xtrain,y)\n",
    "\n",
    "cross_validation.cross_val_score(clf_rf,xtrain,y).mean()"
   ]
  },
  {
   "cell_type": "markdown",
   "metadata": {},
   "source": [
    "The accuracy is slightly lower than before, but this is only an estimate. Let's look at the top 5 features, as determined by the classifier."
   ]
  },
  {
   "cell_type": "code",
   "execution_count": 24,
   "metadata": {},
   "outputs": [
    {
     "name": "stdout",
     "output_type": "stream",
     "text": [
      "                                           0\n",
      "Elevation                           0.222065\n",
      "Horizontal_Distance_To_Roadways     0.089462\n",
      "Horizontal_Distance_To_Fire_Points  0.068934\n",
      "Distance_To_Hydrology               0.053865\n",
      "Hillshade_9am                       0.048557\n"
     ]
    }
   ],
   "source": [
    "print pd.DataFrame(clf_rf.feature_importances_,index=xtrain.columns).sort([0], ascending=False)[:5]"
   ]
  },
  {
   "cell_type": "markdown",
   "metadata": {},
   "source": [
    "The new feature is in the top 5 so this looks promising. "
   ]
  },
  {
   "cell_type": "markdown",
   "metadata": {},
   "source": [
    "Let's see if the value of n_estimators is still optimal with the new feature."
   ]
  },
  {
   "cell_type": "code",
   "execution_count": 25,
   "metadata": {},
   "outputs": [
    {
     "data": {
      "text/plain": [
       "[<matplotlib.lines.Line2D at 0x149d47450>]"
      ]
     },
     "execution_count": 25,
     "metadata": {},
     "output_type": "execute_result"
    },
    {
     "data": {
      "image/png": "[encoded data removed]",
      "text/plain": [
       "<matplotlib.figure.Figure at 0x14a5b4dd0>"
      ]
     },
     "metadata": {},
     "output_type": "display_data"
    }
   ],
   "source": [
    "prange=np.arange(50,650,50)\n",
    "train_scores, cv_scores = validation_curve(clf_rf, xtrain, y,param_name='n_estimators',\n",
    "                                              param_range=prange)\n",
    "\n",
    "plt.xlabel('n_estimators')\n",
    "plt.ylabel('Mean CV score')\n",
    "plt.plot(prange, np.mean(cv_scores, axis=1), label=\"Cross-validation score\",color=\"r\")"
   ]
  },
  {
   "cell_type": "markdown",
   "metadata": {},
   "source": [
    "n_estimators=400 is a better choice for the new feature set, so we will use that."
   ]
  },
  {
   "cell_type": "code",
   "execution_count": 26,
   "metadata": {},
   "outputs": [
    {
     "data": {
      "text/plain": [
       "0.78333333333333333"
      ]
     },
     "execution_count": 26,
     "metadata": {},
     "output_type": "execute_result"
    }
   ],
   "source": [
    "clf_rf.set_params(n_estimators=400)\n",
    "\n",
    "clf_rf.fit(xtrain,y)\n",
    "\n",
    "cross_validation.cross_val_score(clf_rf,xtrain,y).mean()"
   ]
  },
  {
   "cell_type": "markdown",
   "metadata": {},
   "source": [
    "The cross-validation score is slightly better. Write the predictions to file so we can submit them to Kaggle. "
   ]
  },
  {
   "cell_type": "code",
   "execution_count": 27,
   "metadata": {},
   "outputs": [],
   "source": [
    "ypred_rf_opt_fe=clf_rf.predict(test)\n",
    "\n",
    "pd.DataFrame({'Id':ids,'Cover_Type':ypred_rf_opt_fe},\n",
    "            columns=['Id','Cover_Type']).to_csv('submission_rf_opt_fe.csv',index=False)"
   ]
  },
  {
   "cell_type": "markdown",
   "metadata": {},
   "source": [
    "We will submit all 3 random forest models to Kaggle and see how they perform on the test data."
   ]
  },
  {
   "cell_type": "markdown",
   "metadata": {},
   "source": [
    "## 6. Evaluation of the models"
   ]
  },
  {
   "cell_type": "markdown",
   "metadata": {},
   "source": [
    "On submission of the predicitions to Kaggle the scores for the RandomForest models were 0.717 (default parameters), 0.753 (optimised parameters) and 0.751 (new feature added). \n",
    "\n",
    "The most accurate model is the RandomForestClassifier with optimised parameters but no engineered features."
   ]
  },
  {
   "cell_type": "markdown",
   "metadata": {},
   "source": [
    "## 7. Ideas for future work"
   ]
  },
  {
   "cell_type": "markdown",
   "metadata": {},
   "source": [
    "* The most important features are the numerical ones and these could potentially be combined in many ways to engineer more features.\n",
    "\n",
    "\n",
    "* There are many features with very low importance. Applying a feature selection technique to remove the least important features could improve the model. This could be applied in conjunction with adding combinations of exisiting features, as mentioned above, by adding more features first and then performing feature selection.\n",
    "\n",
    "\n",
    "* Try out other ensemble classifiers such as GradientBoostingClassifier and AdaBoostClassifier."
   ]
  }
 ],
 "metadata": {
  "kernelspec": {
   "display_name": "Python 3",
   "language": "python",
   "name": "python3"
  },
  "language_info": {
   "codemirror_mode": {
    "name": "ipython",
    "version": 3
   },
   "file_extension": ".py",
   "mimetype": "text/x-python",
   "name": "python",
   "nbconvert_exporter": "python",
   "pygments_lexer": "ipython3",
   "version": "3.5.2"
  }
 },
 "nbformat": 4,
 "nbformat_minor": 1
}
